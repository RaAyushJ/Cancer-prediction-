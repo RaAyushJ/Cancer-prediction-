{
  "nbformat": 4,
  "nbformat_minor": 0,
  "metadata": {
    "colab": {
      "provenance": []
    },
    "kernelspec": {
      "name": "python3",
      "display_name": "Python 3"
    },
    "language_info": {
      "name": "python"
    }
  },
  "cells": [
    {
      "cell_type": "code",
      "execution_count": 1,
      "metadata": {
        "colab": {
          "base_uri": "https://localhost:8080/"
        },
        "id": "oMuEou2XFfir",
        "outputId": "a749e919-504c-4e38-dd5b-561721aa8426"
      },
      "outputs": [
        {
          "output_type": "stream",
          "name": "stdout",
          "text": [
            "     Name      Surname  Age  Smokes  AreaQ  Alkhol  Result\n",
            "0    John         Wick   35       3      5       4       1\n",
            "1    John  Constantine   27      20      2       5       1\n",
            "2  Camela     Anderson   30       0      5       2       0\n",
            "3    Alex       Telles   28       0      8       1       0\n",
            "4   Diego     Maradona   68       4      5       6       1\n",
            "\n",
            "Logistic Regression Accuracy: 0.92\n",
            "              precision    recall  f1-score   support\n",
            "\n",
            "           0       0.89      1.00      0.94         8\n",
            "           1       1.00      0.75      0.86         4\n",
            "\n",
            "    accuracy                           0.92        12\n",
            "   macro avg       0.94      0.88      0.90        12\n",
            "weighted avg       0.93      0.92      0.91        12\n",
            "\n",
            "\n",
            "Random Forest Accuracy: 0.92\n",
            "              precision    recall  f1-score   support\n",
            "\n",
            "           0       0.89      1.00      0.94         8\n",
            "           1       1.00      0.75      0.86         4\n",
            "\n",
            "    accuracy                           0.92        12\n",
            "   macro avg       0.94      0.88      0.90        12\n",
            "weighted avg       0.93      0.92      0.91        12\n",
            "\n",
            "\n",
            "XGBoost Accuracy: 0.92\n",
            "              precision    recall  f1-score   support\n",
            "\n",
            "           0       0.89      1.00      0.94         8\n",
            "           1       1.00      0.75      0.86         4\n",
            "\n",
            "    accuracy                           0.92        12\n",
            "   macro avg       0.94      0.88      0.90        12\n",
            "weighted avg       0.93      0.92      0.91        12\n",
            "\n",
            "✅ Model and scaler saved to /content/\n"
          ]
        },
        {
          "output_type": "stream",
          "name": "stderr",
          "text": [
            "/usr/local/lib/python3.11/dist-packages/xgboost/core.py:158: UserWarning: [17:07:07] WARNING: /workspace/src/learner.cc:740: \n",
            "Parameters: { \"use_label_encoder\" } are not used.\n",
            "\n",
            "  warnings.warn(smsg, UserWarning)\n"
          ]
        }
      ],
      "source": [
        "import pandas as pd\n",
        "from sklearn.model_selection import train_test_split\n",
        "from sklearn.preprocessing import StandardScaler\n",
        "from sklearn.linear_model import LogisticRegression\n",
        "from sklearn.ensemble import RandomForestClassifier\n",
        "from xgboost import XGBClassifier\n",
        "from sklearn.metrics import classification_report, accuracy_score\n",
        "import joblib\n",
        "\n",
        "# Load dataset from CSV\n",
        "df = pd.read_csv(\"/content/lung_cancer_examples.csv\")\n",
        "\n",
        "# Optional: Display first few rows\n",
        "print(df.head())\n",
        "\n",
        "# Drop non-numeric/non-feature columns\n",
        "df = df.drop(columns=[\"Name\", \"Surname\"])\n",
        "\n",
        "# Separate features and target\n",
        "X = df.drop(\"Result\", axis=1)\n",
        "y = df[\"Result\"]\n",
        "\n",
        "# Train-test split\n",
        "X_train, X_test, y_train, y_test = train_test_split(X, y, test_size=0.2, random_state=42)\n",
        "\n",
        "# Scale features\n",
        "scaler = StandardScaler()\n",
        "X_train_scaled = scaler.fit_transform(X_train)\n",
        "X_test_scaled = scaler.transform(X_test)\n",
        "\n",
        "# Train models\n",
        "lr = LogisticRegression()\n",
        "rf = RandomForestClassifier(random_state=42)\n",
        "xgb = XGBClassifier(use_label_encoder=False, eval_metric=\"logloss\")\n",
        "\n",
        "lr.fit(X_train_scaled, y_train)\n",
        "rf.fit(X_train_scaled, y_train)\n",
        "xgb.fit(X_train_scaled, y_train)\n",
        "\n",
        "# Evaluate each model\n",
        "for model, name in zip([lr, rf, xgb], [\"Logistic Regression\", \"Random Forest\", \"XGBoost\"]):\n",
        "    y_pred = model.predict(X_test_scaled)\n",
        "    print(f\"\\n{name} Accuracy: {accuracy_score(y_test, y_pred):.2f}\")\n",
        "    print(classification_report(y_test, y_pred))\n",
        "\n",
        "# Save best model and scaler\n",
        "joblib.dump(rf, \"/content/lung_cancer_model.pkl\")\n",
        "joblib.dump(scaler, \"/content/scaler.pkl\")\n",
        "print(\"✅ Model and scaler saved to /content/\")\n"
      ]
    },
    {
      "cell_type": "code",
      "source": [
        "# Load model and scaler\n",
        "model = joblib.load(\"/content/lung_cancer_model.pkl\")\n",
        "scaler = joblib.load(\"/content/scaler.pkl\")\n",
        "\n",
        "# Example new patient input: [Age, Smokes, AreaQ, Alkhol]\n",
        "new_data = [[40, 10, 6, 3]]\n",
        "\n",
        "# Scale and predict\n",
        "scaled = scaler.transform(new_data)\n",
        "prediction = model.predict(scaled)\n",
        "\n",
        "print(\"Lung Cancer Risk (1 = High, 0 = Low):\", prediction[0])\n"
      ],
      "metadata": {
        "colab": {
          "base_uri": "https://localhost:8080/"
        },
        "id": "pS1kovYUHCqw",
        "outputId": "dfe763ca-b4ab-4c26-cdc7-255987c30bc6"
      },
      "execution_count": 2,
      "outputs": [
        {
          "output_type": "stream",
          "name": "stdout",
          "text": [
            "Lung Cancer Risk (1 = High, 0 = Low): 0\n"
          ]
        },
        {
          "output_type": "stream",
          "name": "stderr",
          "text": [
            "/usr/local/lib/python3.11/dist-packages/sklearn/utils/validation.py:2739: UserWarning: X does not have valid feature names, but StandardScaler was fitted with feature names\n",
            "  warnings.warn(\n"
          ]
        }
      ]
    },
    {
      "cell_type": "code",
      "source": [
        "from sklearn.ensemble import VotingClassifier\n",
        "from google.colab import files\n",
        "\n",
        "# ✅ Create soft voting ensemble\n",
        "ensemble = VotingClassifier(\n",
        "    estimators=[\n",
        "        ('lr', lr),\n",
        "        ('rf', rf),\n",
        "        ('xgb', xgb)\n",
        "    ],\n",
        "    voting='soft'\n",
        ")\n",
        "\n",
        "# ✅ Fit the ensemble model\n",
        "ensemble.fit(X_train_scaled, y_train)\n",
        "\n",
        "# ✅ Evaluate ensemble\n",
        "ensemble_pred = ensemble.predict(X_test_scaled)\n",
        "print(\"\\nEnsemble Accuracy:\", accuracy_score(y_test, ensemble_pred))\n",
        "print(classification_report(y_test, ensemble_pred))\n",
        "\n",
        "# ✅ Save only the ensemble model\n",
        "joblib.dump(ensemble, \"/content/ensemble_model.pkl\")\n",
        "print(\"✅ Ensemble model saved at /content/ensemble_model.pkl\")\n",
        "\n",
        "# ✅ Download the model\n",
        "files.download(\"/content/ensemble_model.pkl\")\n"
      ],
      "metadata": {
        "colab": {
          "base_uri": "https://localhost:8080/",
          "height": 303
        },
        "id": "t5PFNZ5rHHrj",
        "outputId": "79dbb66f-87b0-4e80-9723-7743088db65c"
      },
      "execution_count": 3,
      "outputs": [
        {
          "output_type": "stream",
          "name": "stderr",
          "text": [
            "/usr/local/lib/python3.11/dist-packages/xgboost/core.py:158: UserWarning: [17:10:43] WARNING: /workspace/src/learner.cc:740: \n",
            "Parameters: { \"use_label_encoder\" } are not used.\n",
            "\n",
            "  warnings.warn(smsg, UserWarning)\n"
          ]
        },
        {
          "output_type": "stream",
          "name": "stdout",
          "text": [
            "\n",
            "Ensemble Accuracy: 0.9166666666666666\n",
            "              precision    recall  f1-score   support\n",
            "\n",
            "           0       0.89      1.00      0.94         8\n",
            "           1       1.00      0.75      0.86         4\n",
            "\n",
            "    accuracy                           0.92        12\n",
            "   macro avg       0.94      0.88      0.90        12\n",
            "weighted avg       0.93      0.92      0.91        12\n",
            "\n",
            "✅ Ensemble model saved at /content/ensemble_model.pkl\n"
          ]
        },
        {
          "output_type": "display_data",
          "data": {
            "text/plain": [
              "<IPython.core.display.Javascript object>"
            ],
            "application/javascript": [
              "\n",
              "    async function download(id, filename, size) {\n",
              "      if (!google.colab.kernel.accessAllowed) {\n",
              "        return;\n",
              "      }\n",
              "      const div = document.createElement('div');\n",
              "      const label = document.createElement('label');\n",
              "      label.textContent = `Downloading \"${filename}\": `;\n",
              "      div.appendChild(label);\n",
              "      const progress = document.createElement('progress');\n",
              "      progress.max = size;\n",
              "      div.appendChild(progress);\n",
              "      document.body.appendChild(div);\n",
              "\n",
              "      const buffers = [];\n",
              "      let downloaded = 0;\n",
              "\n",
              "      const channel = await google.colab.kernel.comms.open(id);\n",
              "      // Send a message to notify the kernel that we're ready.\n",
              "      channel.send({})\n",
              "\n",
              "      for await (const message of channel.messages) {\n",
              "        // Send a message to notify the kernel that we're ready.\n",
              "        channel.send({})\n",
              "        if (message.buffers) {\n",
              "          for (const buffer of message.buffers) {\n",
              "            buffers.push(buffer);\n",
              "            downloaded += buffer.byteLength;\n",
              "            progress.value = downloaded;\n",
              "          }\n",
              "        }\n",
              "      }\n",
              "      const blob = new Blob(buffers, {type: 'application/binary'});\n",
              "      const a = document.createElement('a');\n",
              "      a.href = window.URL.createObjectURL(blob);\n",
              "      a.download = filename;\n",
              "      div.appendChild(a);\n",
              "      a.click();\n",
              "      div.remove();\n",
              "    }\n",
              "  "
            ]
          },
          "metadata": {}
        },
        {
          "output_type": "display_data",
          "data": {
            "text/plain": [
              "<IPython.core.display.Javascript object>"
            ],
            "application/javascript": [
              "download(\"download_bcc144bf-a7f8-4209-824f-3673b3afa8a8\", \"ensemble_model.pkl\", 355138)"
            ]
          },
          "metadata": {}
        }
      ]
    },
    {
      "cell_type": "code",
      "source": [
        "ensemble_model = joblib.load(\"/content/ensemble_model.pkl\")\n",
        "scaler = joblib.load(\"/content/scaler.pkl\")\n",
        "\n",
        "new_data = [[50, 5, 6, 2]]\n",
        "scaled = scaler.transform(new_data)\n",
        "prediction = ensemble_model.predict(scaled)\n",
        "\n",
        "print(\"Lung Cancer Risk (1 = High, 0 = Low):\", prediction[0])"
      ],
      "metadata": {
        "colab": {
          "base_uri": "https://localhost:8080/"
        },
        "id": "J4BhPYgdH7oi",
        "outputId": "d2fcaade-7ede-4a42-b65a-2b1e80730d3a"
      },
      "execution_count": 5,
      "outputs": [
        {
          "output_type": "stream",
          "name": "stdout",
          "text": [
            "Lung Cancer Risk (1 = High, 0 = Low): 0\n"
          ]
        },
        {
          "output_type": "stream",
          "name": "stderr",
          "text": [
            "/usr/local/lib/python3.11/dist-packages/sklearn/utils/validation.py:2739: UserWarning: X does not have valid feature names, but StandardScaler was fitted with feature names\n",
            "  warnings.warn(\n"
          ]
        }
      ]
    }
  ]
}